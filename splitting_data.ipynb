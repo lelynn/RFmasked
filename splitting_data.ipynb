{
 "cells": [
  {
   "cell_type": "code",
   "execution_count": 1,
   "metadata": {},
   "outputs": [],
   "source": [
    "import numpy as np\n",
    "import pandas as pd\n",
    "import matplotlib.pyplot as plt\n",
    "from tqdm import tqdm as tqdm"
   ]
  },
  {
   "cell_type": "code",
   "execution_count": 2,
   "metadata": {},
   "outputs": [],
   "source": [
    "training_indexes = np.load('../../sorted_data/LFP/training/index_training_LFP.npy').astype(np.int)\n",
    "df = pd.DataFrame(training_indexes)\n",
    "df.reset_index(inplace=True)\n",
    "df.columns = ['trial','image_id']\n",
    "availabe_image_ids = df.image_id.unique()\n",
    "train_size = int(len(availabe_image_ids)*0.9)\n",
    "np.random.seed(7)\n",
    "train_image_ids = np.random.choice(availabe_image_ids, size=train_size, replace=False)\n",
    "train_image_ids_series = pd.Series('train', index=train_image_ids, name='train_or_test')\n",
    "df = df.join(train_image_ids_series, on='image_id')\n",
    "df.train_or_test.fillna('test',inplace=True)"
   ]
  },
  {
   "cell_type": "markdown",
   "metadata": {},
   "source": [
    "### Training vs Testing df"
   ]
  },
  {
   "cell_type": "code",
   "execution_count": 3,
   "metadata": {},
   "outputs": [],
   "source": [
    "test_df = df[df[\"train_or_test\"] == \"test\"]\n",
    "train_df = df[df[\"train_or_test\"] == \"train\"]"
   ]
  },
  {
   "cell_type": "markdown",
   "metadata": {},
   "source": [
    "### Seen Images"
   ]
  },
  {
   "cell_type": "markdown",
   "metadata": {},
   "source": [
    "INDICES:"
   ]
  },
  {
   "cell_type": "code",
   "execution_count": 6,
   "metadata": {},
   "outputs": [],
   "source": [
    "test_indexes = test_df.image_id\n",
    "train_indexes = train_df.image_id\n",
    "np.save('../../sorted_data/LFP/testing/index_testing_LFP_split.npy', np.array(test_indexes) )\n",
    "np.save('../../sorted_data/LFP/training/index_training_LFP_split.npy', np.array(train_indexes) )"
   ]
  },
  {
   "cell_type": "code",
   "execution_count": 18,
   "metadata": {},
   "outputs": [],
   "source": [
    "def crop_images(set_df):\n",
    "    \n",
    "    '''\n",
    "    \n",
    "    set_df can be either test_df or train_df,\n",
    "    which is dataframe with an image_id column\n",
    "    representing image_ids with respect to trials.\n",
    "    Returns a list of cropped images\n",
    "    '''\n",
    "    \n",
    "    img_dir = f'../../DeepMonkey/Data/Stimuli/Processed/Training/'\n",
    "    cropped_img = []\n",
    "    for i in tqdm(set_df.image_id.unique()):\n",
    "        t = plt.imread(img_dir+str(i).zfill(4)+'.png')\n",
    "\n",
    "        img_width = t.shape[0]\n",
    "        left_e = int((img_width / 100 * 27.5))\n",
    "        right_s = int(img_width - (img_width/100*32.5))\n",
    "\n",
    "        img_height = t.shape[1]\n",
    "        top_e = int((img_height / 100 * 27.5))\n",
    "        bot_s = int(img_height - (img_height/100*32.5))\n",
    "\n",
    "        cropped_t = t[left_e:right_s, top_e:bot_s, :]\n",
    "        cropped_img.append(cropped_t)\n",
    "    return cropped_img\n"
   ]
  },
  {
   "cell_type": "code",
   "execution_count": 19,
   "metadata": {},
   "outputs": [
    {
     "name": "stderr",
     "output_type": "stream",
     "text": [
      "100%|██████████| 889/889 [00:28<00:00, 31.20it/s]\n",
      "100%|██████████| 7998/7998 [03:21<00:00, 39.70it/s]\n"
     ]
    }
   ],
   "source": [
    "test_cropped_img = crop_images(test_df)\n",
    "train_cropped_img = crop_images(train_df)\n",
    "np.save('splitcrop_testing_im.npy', test_cropped_img)\n",
    "np.save('splitcrop_training_im.npy', train_cropped_img)"
   ]
  },
  {
   "cell_type": "markdown",
   "metadata": {},
   "source": [
    "### LFP signals: (electrodes, ms, trial)"
   ]
  },
  {
   "cell_type": "code",
   "execution_count": 9,
   "metadata": {},
   "outputs": [],
   "source": [
    "nn_training_old = np.load('../../sorted_data/LFP/training/LFP_training_data32_normalized_fast.npy')"
   ]
  },
  {
   "cell_type": "code",
   "execution_count": 10,
   "metadata": {},
   "outputs": [
    {
     "data": {
      "text/plain": [
       "(191, 916, 27349)"
      ]
     },
     "execution_count": 10,
     "metadata": {},
     "output_type": "execute_result"
    }
   ],
   "source": [
    "nn_training_old.shape"
   ]
  },
  {
   "cell_type": "code",
   "execution_count": 11,
   "metadata": {},
   "outputs": [],
   "source": [
    "nn_test =  nn_training_old[:,:,test_df.trial.values]\n",
    "nn_train =  nn_training_old[:,:,train_df.trial.values]"
   ]
  },
  {
   "cell_type": "code",
   "execution_count": 14,
   "metadata": {},
   "outputs": [],
   "source": [
    "np.save(f'../../sorted_data/LFP/training/LFP_training_splitted.npy',nn_train)\n"
   ]
  },
  {
   "cell_type": "code",
   "execution_count": 15,
   "metadata": {},
   "outputs": [],
   "source": [
    "np.save(f'../../sorted_data/LFP/testing/LFP_testing_splitted.npy',nn_test)"
   ]
  },
  {
   "cell_type": "code",
   "execution_count": null,
   "metadata": {},
   "outputs": [],
   "source": [
    "# ! scp lynnle@lovelace.ai.ru.nl:/scratch/users/lynnle/MonkeyProject/git/sorted_data/LFP/training/LFP_training_splitted.npy /huge/lynnle/MonkeyProject/git/sorted_data/LFP/training/"
   ]
  }
 ],
 "metadata": {
  "kernelspec": {
   "display_name": "Python 3",
   "language": "python",
   "name": "python3"
  },
  "language_info": {
   "codemirror_mode": {
    "name": "ipython",
    "version": 3
   },
   "file_extension": ".py",
   "mimetype": "text/x-python",
   "name": "python",
   "nbconvert_exporter": "python",
   "pygments_lexer": "ipython3",
   "version": "3.7.1"
  }
 },
 "nbformat": 4,
 "nbformat_minor": 4
}
