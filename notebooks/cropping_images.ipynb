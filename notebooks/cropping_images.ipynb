{
 "cells": [
  {
   "cell_type": "code",
   "execution_count": 1,
   "metadata": {},
   "outputs": [],
   "source": [
    "import numpy as np\n",
    "import matplotlib.pyplot as plt\n",
    "from matplotlib import cm\n",
    "from mpl_toolkits.mplot3d import Axes3D\n",
    "from tqdm import tqdm as tqdm"
   ]
  },
  {
   "cell_type": "code",
   "execution_count": 2,
   "metadata": {},
   "outputs": [],
   "source": [
    "set_t = 'testing'\n",
    "\n",
    "img_indexes = np.load(f'../../sorted_data/LFP/{set_t}/index_{set_t}_LFP.npy').astype(np.int)\n",
    "img_dir = f'../../DeepMonkey/Data/Stimuli/Processed/{set_t.capitalize()}/'\n",
    "\n",
    "# nn_training = np.load('../../sorted_data/LFP/training/LFP_training_data32_normalized_fast.npy')\n",
    "# nn_testing = np.load('../../sorted_data/LFP/testing/LFP_testing_data32_normalized.npy')"
   ]
  },
  {
   "cell_type": "code",
   "execution_count": 4,
   "metadata": {},
   "outputs": [
    {
     "data": {
      "text/plain": [
       "array([ 0,  0,  0, ..., 99, 99, 99])"
      ]
     },
     "execution_count": 4,
     "metadata": {},
     "output_type": "execute_result"
    }
   ],
   "source": [
    "img_indexes"
   ]
  },
  {
   "cell_type": "code",
   "execution_count": 5,
   "metadata": {},
   "outputs": [
    {
     "name": "stderr",
     "output_type": "stream",
     "text": [
      "100%|██████████| 100/100 [00:02<00:00, 38.11it/s]\n"
     ]
    }
   ],
   "source": [
    "cropped_img = []\n",
    "for i in tqdm(range((100))):\n",
    "    t = plt.imread(img_dir+str(i).zfill(4)+'.png')\n",
    "    \n",
    "    \n",
    "    img_width = t.shape[0]\n",
    "    left_e = int((img_width / 100 * 27.5))\n",
    "    right_s = int(img_width - (img_width/100*32.5))\n",
    "\n",
    "    img_height = t.shape[1]\n",
    "    top_e = int((img_height / 100 * 27.5))\n",
    "    bot_s = int(img_height - (img_height/100*32.5))\n",
    "    \n",
    "    cropped_t = t[left_e:right_s, top_e:bot_s, :]\n",
    "\n",
    "    cropped_img.append(cropped_t)"
   ]
  },
  {
   "cell_type": "code",
   "execution_count": 6,
   "metadata": {},
   "outputs": [],
   "source": [
    "cropped_img = np.stack(cropped_img)"
   ]
  },
  {
   "cell_type": "code",
   "execution_count": 7,
   "metadata": {},
   "outputs": [],
   "source": [
    "np.save('cropped_images_testing.npy', cropped_img)"
   ]
  },
  {
   "cell_type": "code",
   "execution_count": null,
   "metadata": {},
   "outputs": [],
   "source": [
    "\n",
    "\n",
    "\n",
    "\n",
    "\n",
    "\n",
    "\n",
    "\n",
    "\n",
    "\n",
    "\n",
    "\n",
    "\n",
    "\n",
    "\n",
    "\n",
    "\n",
    "\n",
    "\n",
    "\n",
    "\n"
   ]
  }
 ],
 "metadata": {
  "kernelspec": {
   "display_name": "Python 3",
   "language": "python",
   "name": "python3"
  },
  "language_info": {
   "codemirror_mode": {
    "name": "ipython",
    "version": 3
   },
   "file_extension": ".py",
   "mimetype": "text/x-python",
   "name": "python",
   "nbconvert_exporter": "python",
   "pygments_lexer": "ipython3",
   "version": "3.7.1"
  }
 },
 "nbformat": 4,
 "nbformat_minor": 2
}
